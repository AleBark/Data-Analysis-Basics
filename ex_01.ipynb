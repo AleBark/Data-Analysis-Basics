{
 "cells": [
  {
   "cell_type": "markdown",
   "metadata": {},
   "source": [
    "## NumPy Introduction"
   ]
  },
  {
   "cell_type": "code",
   "execution_count": 97,
   "metadata": {},
   "outputs": [],
   "source": [
    "import numpy as np"
   ]
  },
  {
   "cell_type": "code",
   "execution_count": 98,
   "metadata": {},
   "outputs": [
    {
     "name": "stdout",
     "output_type": "stream",
     "text": [
      "[1, 2, 3]\n"
     ]
    }
   ],
   "source": [
    "list = [1,2,3]\n",
    "print(list)"
   ]
  },
  {
   "cell_type": "code",
   "execution_count": 99,
   "metadata": {},
   "outputs": [
    {
     "name": "stdout",
     "output_type": "stream",
     "text": [
      "[1 2 3]\n"
     ]
    }
   ],
   "source": [
    "# Creating a numpy array from a python list\n",
    "arr = np.array(list)\n",
    "print(arr)"
   ]
  },
  {
   "cell_type": "code",
   "execution_count": 100,
   "metadata": {},
   "outputs": [
    {
     "name": "stdout",
     "output_type": "stream",
     "text": [
      "[[1, 2, 3], [4, 5, 6], [7, 8, 9]]\n"
     ]
    }
   ],
   "source": [
    "mat = [[1,2,3], [4,5,6], [7,8,9]]\n",
    "print(mat)"
   ]
  },
  {
   "cell_type": "code",
   "execution_count": 101,
   "metadata": {},
   "outputs": [
    {
     "name": "stdout",
     "output_type": "stream",
     "text": [
      "[[1 2 3]\n",
      " [4 5 6]\n",
      " [7 8 9]]\n"
     ]
    }
   ],
   "source": [
    "# Creating a numpy array from a python multidimensional list\n",
    "mat_numpy = np.array(mat)\n",
    "print(mat_numpy)"
   ]
  },
  {
   "cell_type": "code",
   "execution_count": 102,
   "metadata": {},
   "outputs": [
    {
     "name": "stdout",
     "output_type": "stream",
     "text": [
      "3\n"
     ]
    }
   ],
   "source": [
    "# Checking the size of an array (list or array)\n",
    "print(len(list)) "
   ]
  },
  {
   "cell_type": "code",
   "execution_count": 103,
   "metadata": {},
   "outputs": [
    {
     "name": "stdout",
     "output_type": "stream",
     "text": [
      "3\n",
      "3\n"
     ]
    }
   ],
   "source": [
    "# Number of rows and columns in the array (python)\n",
    "print(len(mat)) # rows \n",
    "print(len(mat[0])) # columns"
   ]
  },
  {
   "cell_type": "code",
   "execution_count": 104,
   "metadata": {},
   "outputs": [
    {
     "name": "stdout",
     "output_type": "stream",
     "text": [
      "(3,)\n",
      "(3, 3)\n"
     ]
    }
   ],
   "source": [
    "# Numpy style\n",
    "print(arr.shape) # lenght 3\n",
    "print(mat_numpy.shape) # shape 3x3"
   ]
  },
  {
   "cell_type": "code",
   "execution_count": 105,
   "metadata": {
    "scrolled": true
   },
   "outputs": [
    {
     "name": "stdout",
     "output_type": "stream",
     "text": [
      "1\n",
      "2\n"
     ]
    }
   ],
   "source": [
    "# Number of dimensions\n",
    "print(arr.ndim) # 1 dimension\n",
    "print(mat_numpy.ndim) # 2 dimensions"
   ]
  },
  {
   "cell_type": "code",
   "execution_count": 106,
   "metadata": {},
   "outputs": [
    {
     "name": "stdout",
     "output_type": "stream",
     "text": [
      "range(0, 10)\n"
     ]
    }
   ],
   "source": [
    "# Range (python)\n",
    "print(range(0,10))"
   ]
  },
  {
   "cell_type": "code",
   "execution_count": 107,
   "metadata": {},
   "outputs": [
    {
     "name": "stdout",
     "output_type": "stream",
     "text": [
      "[0 1 2 3 4 5 6 7 8 9]\n"
     ]
    }
   ],
   "source": [
    "# Range (numpy)\n",
    "print(np.arange(0,10))"
   ]
  },
  {
   "cell_type": "code",
   "execution_count": 108,
   "metadata": {},
   "outputs": [
    {
     "name": "stdout",
     "output_type": "stream",
     "text": [
      "[[0. 0.]\n",
      " [0. 0.]\n",
      " [0. 0.]\n",
      " [0. 0.]\n",
      " [0. 0.]\n",
      " [0. 0.]\n",
      " [0. 0.]\n",
      " [0. 0.]\n",
      " [0. 0.]\n",
      " [0. 0.]]\n"
     ]
    }
   ],
   "source": [
    "# Creating an array of zeros\n",
    "print(np.zeros((10,2)))"
   ]
  },
  {
   "cell_type": "code",
   "execution_count": 109,
   "metadata": {},
   "outputs": [
    {
     "name": "stdout",
     "output_type": "stream",
     "text": [
      "[[1. 1.]\n",
      " [1. 1.]\n",
      " [1. 1.]\n",
      " [1. 1.]\n",
      " [1. 1.]\n",
      " [1. 1.]\n",
      " [1. 1.]\n",
      " [1. 1.]\n",
      " [1. 1.]\n",
      " [1. 1.]]\n"
     ]
    }
   ],
   "source": [
    "# Creating an array of ones\n",
    "print(np.ones((10,2)))"
   ]
  },
  {
   "cell_type": "code",
   "execution_count": 110,
   "metadata": {},
   "outputs": [
    {
     "name": "stdout",
     "output_type": "stream",
     "text": [
      "[0.         0.55555556 1.11111111 1.66666667 2.22222222 2.77777778\n",
      " 3.33333333 3.88888889 4.44444444 5.        ]\n"
     ]
    }
   ],
   "source": [
    "# Linspace (array whose numbers are within a evenly spaced range)\n",
    "print(np.linspace(0,5,10))"
   ]
  },
  {
   "cell_type": "code",
   "execution_count": 111,
   "metadata": {},
   "outputs": [
    {
     "name": "stdout",
     "output_type": "stream",
     "text": [
      "[[0.95331684 0.37835357 0.54242811 0.14929452]\n",
      " [0.00541013 0.41917043 0.99887179 0.62353905]\n",
      " [0.09238607 0.35703433 0.3471556  0.55102298]\n",
      " [0.64371821 0.31089226 0.95173118 0.52564261]]\n"
     ]
    }
   ],
   "source": [
    "# Array of random numbers (between 0 and 1)\n",
    "print(np.random.rand(4,4))"
   ]
  },
  {
   "cell_type": "code",
   "execution_count": 112,
   "metadata": {},
   "outputs": [
    {
     "name": "stdout",
     "output_type": "stream",
     "text": [
      "[[ 1.0492897   0.66967046  1.25851725 -0.78308   ]\n",
      " [-0.22467763 -0.56585128  0.03734924  0.87426296]\n",
      " [-1.67169467 -0.20335997 -0.28983117  1.59540519]\n",
      " [-0.48896328  0.65195933 -0.72549588  1.30550133]]\n"
     ]
    }
   ],
   "source": [
    "# Randn: Creates an array of random numbers, following a Gaussian (normal) distribution\n",
    "# Parameters:\n",
    "# Average = 0\n",
    "# Variance = 1\n",
    "print(np.random.randn(4,4))"
   ]
  },
  {
   "cell_type": "code",
   "execution_count": 113,
   "metadata": {},
   "outputs": [
    {
     "name": "stdout",
     "output_type": "stream",
     "text": [
      "[34 24 39 21 21 45 27 38 29 32 41 27 47 38 34 30 43 25 20 46 30 40 37 28\n",
      " 26 24 44 27 30 26 46 48 42 36 23 28 29 45 24 32 36 42 37 29 39 38 28 45\n",
      " 22 24 24 37 29 34 45 42 46 33 37 41 34 44 38 32 35 27 42 39 24 44 32 32\n",
      " 21 20 25 27 39 42 22 30 46 27 48 25 29 44 27 21 24 39 26 44 47 31 33 49\n",
      " 40 39 42 29]\n"
     ]
    }
   ],
   "source": [
    "# Randint: Creates an array of random integers\n",
    "array = np.random.randint(20,50,100)\n",
    "print(array)"
   ]
  },
  {
   "cell_type": "markdown",
   "metadata": {},
   "source": [
    "### Statistical calculations"
   ]
  },
  {
   "cell_type": "code",
   "execution_count": 114,
   "metadata": {},
   "outputs": [
    {
     "name": "stdout",
     "output_type": "stream",
     "text": [
      "49\n"
     ]
    }
   ],
   "source": [
    "# Maximum\n",
    "print(array.max())"
   ]
  },
  {
   "cell_type": "code",
   "execution_count": 115,
   "metadata": {},
   "outputs": [
    {
     "name": "stdout",
     "output_type": "stream",
     "text": [
      "20\n"
     ]
    }
   ],
   "source": [
    "# Minimum\n",
    "print(array.min())"
   ]
  },
  {
   "cell_type": "code",
   "execution_count": 116,
   "metadata": {},
   "outputs": [
    {
     "name": "stdout",
     "output_type": "stream",
     "text": [
      "95\n"
     ]
    }
   ],
   "source": [
    "# Maximum value index (if there is repetition, shows the first one)\n",
    "print(array.argmax())"
   ]
  },
  {
   "cell_type": "code",
   "execution_count": 117,
   "metadata": {},
   "outputs": [
    {
     "name": "stdout",
     "output_type": "stream",
     "text": [
      "18\n"
     ]
    }
   ],
   "source": [
    "# Minimum value index \n",
    "print(array.argmin())"
   ]
  },
  {
   "cell_type": "code",
   "execution_count": 118,
   "metadata": {},
   "outputs": [
    {
     "name": "stdout",
     "output_type": "stream",
     "text": [
      "33.93\n"
     ]
    }
   ],
   "source": [
    "# Mean\n",
    "print(array.mean())"
   ]
  },
  {
   "cell_type": "code",
   "execution_count": 119,
   "metadata": {},
   "outputs": [
    {
     "name": "stdout",
     "output_type": "stream",
     "text": [
      "8.195431654281549\n"
     ]
    }
   ],
   "source": [
    "# Standard deviation\n",
    "print(array.std())"
   ]
  },
  {
   "cell_type": "code",
   "execution_count": 120,
   "metadata": {},
   "outputs": [
    {
     "name": "stdout",
     "output_type": "stream",
     "text": [
      "67.1651\n"
     ]
    }
   ],
   "source": [
    "# Variance\n",
    "print(array.var())"
   ]
  },
  {
   "cell_type": "code",
   "execution_count": 121,
   "metadata": {},
   "outputs": [
    {
     "name": "stdout",
     "output_type": "stream",
     "text": [
      "33.5\n"
     ]
    }
   ],
   "source": [
    "# Median (sorts the data for correct calcs)\n",
    "print(np.median(array))"
   ]
  },
  {
   "cell_type": "code",
   "execution_count": 122,
   "metadata": {},
   "outputs": [
    {
     "name": "stdout",
     "output_type": "stream",
     "text": [
      "ModeResult(mode=array([24]), count=array([7]))\n"
     ]
    }
   ],
   "source": [
    "# Mode (available in scipy)\n",
    "from scipy import stats\n",
    "print(stats.mode(array))"
   ]
  },
  {
   "cell_type": "code",
   "execution_count": 123,
   "metadata": {},
   "outputs": [
    {
     "name": "stdout",
     "output_type": "stream",
     "text": [
      "41\n"
     ]
    }
   ],
   "source": [
    "## Indexing\n",
    "print(array[10])"
   ]
  },
  {
   "cell_type": "code",
   "execution_count": 124,
   "metadata": {},
   "outputs": [
    {
     "name": "stdout",
     "output_type": "stream",
     "text": [
      "[34 24 39 21 21 45 27 38 29 32]\n"
     ]
    }
   ],
   "source": [
    "# Getting data up to 10th position\n",
    "print(array[:10])"
   ]
  },
  {
   "cell_type": "code",
   "execution_count": 125,
   "metadata": {},
   "outputs": [
    {
     "name": "stdout",
     "output_type": "stream",
     "text": [
      "[34 39 21 27 29]\n"
     ]
    }
   ],
   "source": [
    "# Getting data up to 10th position, 2 by 2\n",
    "print(array[:10:2])"
   ]
  },
  {
   "cell_type": "code",
   "execution_count": 126,
   "metadata": {},
   "outputs": [
    {
     "name": "stdout",
     "output_type": "stream",
     "text": [
      "[1 2 3 4 5 6 7 8 9] [50 51 52 53 54 55 56 57 58]\n"
     ]
    }
   ],
   "source": [
    "# Operations\n",
    "arr_a = np.arange(1,10)\n",
    "arr_b = np.arange(50,59)\n",
    "print(arr_a, arr_b)"
   ]
  },
  {
   "cell_type": "code",
   "execution_count": 127,
   "metadata": {},
   "outputs": [
    {
     "name": "stdout",
     "output_type": "stream",
     "text": [
      "[51 53 55 57 59 61 63 65 67]\n"
     ]
    }
   ],
   "source": [
    "# Array sum\n",
    "print(arr_a + arr_b)"
   ]
  },
  {
   "cell_type": "code",
   "execution_count": 128,
   "metadata": {},
   "outputs": [
    {
     "name": "stdout",
     "output_type": "stream",
     "text": [
      "[-49 -49 -49 -49 -49 -49 -49 -49 -49]\n"
     ]
    }
   ],
   "source": [
    "# Array subtraction\n",
    "print(arr_a - arr_b)"
   ]
  },
  {
   "cell_type": "code",
   "execution_count": 129,
   "metadata": {},
   "outputs": [
    {
     "name": "stdout",
     "output_type": "stream",
     "text": [
      "[ 50 102 156 212 270 330 392 456 522]\n"
     ]
    }
   ],
   "source": [
    "# Array multiplication\n",
    "print(arr_a * arr_b)"
   ]
  },
  {
   "cell_type": "code",
   "execution_count": 130,
   "metadata": {},
   "outputs": [
    {
     "name": "stdout",
     "output_type": "stream",
     "text": [
      "[0.02       0.03921569 0.05769231 0.0754717  0.09259259 0.10909091\n",
      " 0.125      0.14035088 0.15517241]\n"
     ]
    }
   ],
   "source": [
    "# Array division\n",
    "print(arr_a / arr_b)"
   ]
  },
  {
   "cell_type": "code",
   "execution_count": 131,
   "metadata": {},
   "outputs": [
    {
     "name": "stdout",
     "output_type": "stream",
     "text": [
      "[11 12 13 14 15 16 17 18 19]\n"
     ]
    }
   ],
   "source": [
    "# Array sum (to each element)\n",
    "print(arr_a + 10)"
   ]
  },
  {
   "cell_type": "code",
   "execution_count": 132,
   "metadata": {},
   "outputs": [
    {
     "name": "stdout",
     "output_type": "stream",
     "text": [
      "[ 1  4  9 16 25 36 49 64 81]\n"
     ]
    }
   ],
   "source": [
    "# Array multiplication (to each element)\n",
    "print(arr_a ** 2)"
   ]
  },
  {
   "cell_type": "code",
   "execution_count": 133,
   "metadata": {},
   "outputs": [],
   "source": [
    "# Sets operations"
   ]
  },
  {
   "cell_type": "code",
   "execution_count": 134,
   "metadata": {},
   "outputs": [
    {
     "name": "stdout",
     "output_type": "stream",
     "text": [
      "[ 1  2  3  4  5  6  7  8  9 50 51 52 53 54 55 56 57 58]\n"
     ]
    }
   ],
   "source": [
    "# Union (all values that are in A or B, without repetition)\n",
    "print(np.union1d(arr_a, arr_b))"
   ]
  },
  {
   "cell_type": "code",
   "execution_count": 135,
   "metadata": {},
   "outputs": [
    {
     "name": "stdout",
     "output_type": "stream",
     "text": [
      "[]\n"
     ]
    }
   ],
   "source": [
    "# Intersection\n",
    "print(np.intersect1d(arr_a, arr_b))"
   ]
  },
  {
   "cell_type": "code",
   "execution_count": 136,
   "metadata": {},
   "outputs": [
    {
     "name": "stdout",
     "output_type": "stream",
     "text": [
      "[1 2 3 4 5 6 7 8 9]\n"
     ]
    }
   ],
   "source": [
    "# Unique values\n",
    "print(np.unique(arr_a))"
   ]
  },
  {
   "cell_type": "code",
   "execution_count": 137,
   "metadata": {},
   "outputs": [
    {
     "name": "stdout",
     "output_type": "stream",
     "text": [
      "[1 2 3 4 5 6 7 8 9]\n"
     ]
    }
   ],
   "source": [
    "# Difference between sets (A | B = items in A and removal what is common in B (intersection))\n",
    "print(np.setdiff1d(arr_a, arr_b))"
   ]
  },
  {
   "cell_type": "code",
   "execution_count": 138,
   "metadata": {},
   "outputs": [
    {
     "name": "stdout",
     "output_type": "stream",
     "text": [
      "[0 1 2 3 4 5 6 7 8 9] [5 6 7 8 9]\n",
      "______\n",
      "[ 0  1  2  3  4 10 11 12 13 14] [10 11 12 13 14]\n"
     ]
    }
   ],
   "source": [
    "# Copy and reference\n",
    "arr_1 = np.arange(0,10)\n",
    "arr_2 = arr_1[5:]\n",
    "# arr_2 = arr_1[5:].copy() if necessary to manipulate a copy\n",
    "print(arr_1, arr_2)\n",
    "print('______')\n",
    "arr_2 += 5\n",
    "print(arr_1, arr_2)"
   ]
  },
  {
   "cell_type": "code",
   "execution_count": null,
   "metadata": {},
   "outputs": [],
   "source": []
  }
 ],
 "metadata": {
  "kernelspec": {
   "display_name": "Python 3",
   "language": "python",
   "name": "python3"
  },
  "language_info": {
   "codemirror_mode": {
    "name": "ipython",
    "version": 3
   },
   "file_extension": ".py",
   "mimetype": "text/x-python",
   "name": "python",
   "nbconvert_exporter": "python",
   "pygments_lexer": "ipython3",
   "version": "3.7.6"
  }
 },
 "nbformat": 4,
 "nbformat_minor": 4
}
