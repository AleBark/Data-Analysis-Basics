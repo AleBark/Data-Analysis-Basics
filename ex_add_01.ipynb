{
 "cells": [
  {
   "cell_type": "markdown",
   "metadata": {},
   "source": [
    "## Exercises list 01"
   ]
  },
  {
   "cell_type": "code",
   "execution_count": 18,
   "metadata": {},
   "outputs": [],
   "source": [
    "import numpy as np"
   ]
  },
  {
   "cell_type": "code",
   "execution_count": 19,
   "metadata": {},
   "outputs": [
    {
     "name": "stdout",
     "output_type": "stream",
     "text": [
      "[0. 0. 0. 0. 0. 0. 0. 0. 0. 0.]\n"
     ]
    }
   ],
   "source": [
    "# Create an array with 10 '0's\n",
    "print(np.zeros((10)))"
   ]
  },
  {
   "cell_type": "code",
   "execution_count": 20,
   "metadata": {},
   "outputs": [
    {
     "name": "stdout",
     "output_type": "stream",
     "text": [
      "[1. 1. 1. 1. 1. 1. 1. 1. 1. 1.]\n"
     ]
    }
   ],
   "source": [
    "# Create an array with 10 '1's\n",
    "print(np.ones(10))"
   ]
  },
  {
   "cell_type": "code",
   "execution_count": 21,
   "metadata": {},
   "outputs": [
    {
     "name": "stdout",
     "output_type": "stream",
     "text": [
      "[5 5 5 5 5 5 5 5 5 5]\n"
     ]
    }
   ],
   "source": [
    "# Create an array with 10 '5's\n",
    "print(np.full(10, 5))"
   ]
  },
  {
   "cell_type": "code",
   "execution_count": 22,
   "metadata": {},
   "outputs": [
    {
     "name": "stdout",
     "output_type": "stream",
     "text": [
      "[ 45  45  86 107  88  78  83 139 124  51]\n"
     ]
    }
   ],
   "source": [
    "# Create an array with integers between 15 and 150\n",
    "print(np.random.randint(15,150,10))"
   ]
  },
  {
   "cell_type": "code",
   "execution_count": 23,
   "metadata": {},
   "outputs": [
    {
     "name": "stdout",
     "output_type": "stream",
     "text": [
      "[11 13 15 17 19 21 23 25 27 29 31 33 35 37 39 41 43 45 47 49]\n"
     ]
    }
   ],
   "source": [
    "# Create an array with all odd numbers between 10 and 50\n",
    "arr = np.arange(10,51,1)\n",
    "odd_arr = arr[arr % 2==1]\n",
    "print(odd_arr)"
   ]
  },
  {
   "cell_type": "code",
   "execution_count": 24,
   "metadata": {},
   "outputs": [
    {
     "name": "stdout",
     "output_type": "stream",
     "text": [
      "Array: \n",
      " [[-1.07649416  1.07850604 -0.19641523]\n",
      " [-0.60938175 -0.40642045 -0.99357094]\n",
      " [ 0.38004503  0.46783308  2.57482337]] \n",
      "\n",
      "Maximum \n",
      " 2.5748233703055776\n",
      "Minimum: \n",
      " -1.0764941606942593\n",
      "Mean: \n",
      " 0.135436111042123\n",
      "Variance: \n",
      " 1.1902479716052552\n",
      "Standard deviation: \n",
      " 1.0909848631421315\n",
      "Columns sum: \n",
      " [-1.30583087  1.13991867  1.38483721]\n"
     ]
    }
   ],
   "source": [
    "# Create a 3 x 3 array whose numbers follow a Gaussian distribution\n",
    "## Also calculate the sum of each column, maximum, minimum, average, standard deviation and variance\n",
    "\n",
    "arr = np.random.randn(3,3)\n",
    "print('Array: \\n', arr, '\\n')\n",
    "print('Maximum \\n', arr.max())\n",
    "print('Minimum: \\n', arr.min())\n",
    "print('Mean: \\n', arr.mean())\n",
    "print('Variance: \\n', arr.var())\n",
    "print('Standard deviation: \\n', arr.std())\n",
    "print('Columns sum: \\n', arr.sum(0))"
   ]
  },
  {
   "cell_type": "code",
   "execution_count": null,
   "metadata": {},
   "outputs": [],
   "source": [
    "# Create a 2d array with '1.0' on the edges and '0.0' on the internal values\n",
    "rows = int(input(\"Rows: \\n\"))\n",
    "columns = int(input(\"Columns: \\n\"))\n",
    "arr = np.ones((10,10))\n",
    "arr[1:-1,1:-1] = 0\n",
    "print(\"Result: \\n\", arr)"
   ]
  }
 ],
 "metadata": {
  "kernelspec": {
   "display_name": "Python 3",
   "language": "python",
   "name": "python3"
  },
  "language_info": {
   "codemirror_mode": {
    "name": "ipython",
    "version": 3
   },
   "file_extension": ".py",
   "mimetype": "text/x-python",
   "name": "python",
   "nbconvert_exporter": "python",
   "pygments_lexer": "ipython3",
   "version": "3.7.6"
  }
 },
 "nbformat": 4,
 "nbformat_minor": 4
}
