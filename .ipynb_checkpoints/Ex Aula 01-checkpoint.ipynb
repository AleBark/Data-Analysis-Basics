{
 "cells": [
  {
   "cell_type": "markdown",
   "metadata": {},
   "source": [
    "### Lista de exercícios 01"
   ]
  },
  {
   "cell_type": "code",
   "execution_count": 1,
   "metadata": {},
   "outputs": [],
   "source": [
    "import numpy as np"
   ]
  },
  {
   "cell_type": "code",
   "execution_count": 8,
   "metadata": {},
   "outputs": [
    {
     "name": "stdout",
     "output_type": "stream",
     "text": [
      "[0. 0. 0. 0. 0. 0. 0. 0. 0. 0.]\n"
     ]
    }
   ],
   "source": [
    "# Crie um array com 10 0s\n",
    "print(np.zeros((10)))"
   ]
  },
  {
   "cell_type": "code",
   "execution_count": 9,
   "metadata": {},
   "outputs": [
    {
     "name": "stdout",
     "output_type": "stream",
     "text": [
      "[1. 1. 1. 1. 1. 1. 1. 1. 1. 1.]\n"
     ]
    }
   ],
   "source": [
    "# Crie um array com 10 1s\n",
    "print(np.ones(10))"
   ]
  },
  {
   "cell_type": "code",
   "execution_count": 17,
   "metadata": {},
   "outputs": [
    {
     "name": "stdout",
     "output_type": "stream",
     "text": [
      "[5 5 5 5 5 5 5 5 5 5]\n"
     ]
    }
   ],
   "source": [
    "# Crie um array com 10 5s\n",
    "print(np.full(10, 5))"
   ]
  },
  {
   "cell_type": "code",
   "execution_count": 45,
   "metadata": {},
   "outputs": [
    {
     "name": "stdout",
     "output_type": "stream",
     "text": [
      "[ 93 138 149 132  62  91  77  78 112  96]\n"
     ]
    }
   ],
   "source": [
    "# Crie um array com os números inteiros entre 15 e 150\n",
    "print(np.random.randint(15,150,10))"
   ]
  },
  {
   "cell_type": "code",
   "execution_count": 56,
   "metadata": {},
   "outputs": [
    {
     "name": "stdout",
     "output_type": "stream",
     "text": [
      "[11 13 15 17 19 21 23 25 27 29 31 33 35 37 39 41 43 45 47 49]\n"
     ]
    }
   ],
   "source": [
    "# Crie um array com todos os números ímpares entre 10 e 50\n",
    "arr = np.arange(10,51,1)\n",
    "arr_impar = arr[arr % 2==1]\n",
    "print(arr_impar)"
   ]
  },
  {
   "cell_type": "code",
   "execution_count": 71,
   "metadata": {},
   "outputs": [
    {
     "name": "stdout",
     "output_type": "stream",
     "text": [
      "Array: \n",
      " [[ 2.05060921 -0.10422572 -0.71630619]\n",
      " [ 0.49430651  1.46769839 -0.67659129]\n",
      " [ 1.23823751 -0.45010609 -0.71048365]] \n",
      "\n",
      "Valor máximo: \n",
      " 2.050609214544273\n",
      "Valor minimo: \n",
      " -0.7163061886182064\n",
      "Média: \n",
      " 0.2881265223076367\n",
      "Variância: \n",
      " 1.008741287837488\n",
      "Desvio padrão: \n",
      " 1.004361134173106\n",
      "Soma das colunas: \n",
      " [ 3.78315324  0.91336659 -2.10338113]\n"
     ]
    }
   ],
   "source": [
    "# Crie um array 3 x 3 cujos números sigam uma distribuição gaussiana\n",
    "## Para este item, também calcule a soma de cada coluna, valor máximo, mínimo, média, desvio padrão e variância\n",
    "\n",
    "arr = np.random.randn(3,3)\n",
    "print('Array: \\n', arr, '\\n')\n",
    "print('Valor máximo: \\n', arr.max())\n",
    "print('Valor minimo: \\n', arr.min())\n",
    "print('Média: \\n', arr.mean())\n",
    "print('Variância: \\n', arr.var())\n",
    "print('Desvio padrão: \\n', arr.std())\n",
    "print('Soma das colunas: \\n', arr.sum(0))"
   ]
  },
  {
   "cell_type": "code",
   "execution_count": 78,
   "metadata": {},
   "outputs": [
    {
     "name": "stdout",
     "output_type": "stream",
     "text": [
      "Linhas: \n",
      "2\n",
      "Colunas: \n",
      "10\n",
      "Resultado: \n",
      " [[1. 1. 1. 1. 1. 1. 1. 1. 1. 1.]\n",
      " [1. 0. 0. 0. 0. 0. 0. 0. 0. 1.]\n",
      " [1. 0. 0. 0. 0. 0. 0. 0. 0. 1.]\n",
      " [1. 0. 0. 0. 0. 0. 0. 0. 0. 1.]\n",
      " [1. 0. 0. 0. 0. 0. 0. 0. 0. 1.]\n",
      " [1. 0. 0. 0. 0. 0. 0. 0. 0. 1.]\n",
      " [1. 0. 0. 0. 0. 0. 0. 0. 0. 1.]\n",
      " [1. 0. 0. 0. 0. 0. 0. 0. 0. 1.]\n",
      " [1. 0. 0. 0. 0. 0. 0. 0. 0. 1.]\n",
      " [1. 1. 1. 1. 1. 1. 1. 1. 1. 1.]]\n"
     ]
    }
   ],
   "source": [
    "# Crie um array 2d com 1.0 nas bordas e 0.0 nos valores internos\n",
    "linhas = int(input(\"Linhas: \\n\"))\n",
    "colunas = int(input(\"Colunas: \\n\"))\n",
    "arr = np.ones((10,10))\n",
    "arr[1:-1,1:-1] = 0\n",
    "print(\"Resultado: \\n\", arr)"
   ]
  },
  {
   "cell_type": "markdown",
   "metadata": {},
   "source": [
    "### Desafio"
   ]
  },
  {
   "cell_type": "code",
   "execution_count": 2,
   "metadata": {},
   "outputs": [],
   "source": [
    "# Crie um script python que aloque uma matriz 2d com os valores:\n",
    "\n",
    "#  0  1  2  3  4  5\n",
    "# 10 11 12 13 14 15\n",
    "# 20 21 22 23 24 25\n",
    "# 30 31 32 33 34 35\n",
    "# 40 41 42 43 44 45\n",
    "# 50 51 52 53 54 55\n",
    "\n"
   ]
  },
  {
   "cell_type": "code",
   "execution_count": null,
   "metadata": {},
   "outputs": [],
   "source": []
  }
 ],
 "metadata": {
  "kernelspec": {
   "display_name": "Python 3",
   "language": "python",
   "name": "python3"
  },
  "language_info": {
   "codemirror_mode": {
    "name": "ipython",
    "version": 3
   },
   "file_extension": ".py",
   "mimetype": "text/x-python",
   "name": "python",
   "nbconvert_exporter": "python",
   "pygments_lexer": "ipython3",
   "version": "3.7.6"
  }
 },
 "nbformat": 4,
 "nbformat_minor": 4
}
